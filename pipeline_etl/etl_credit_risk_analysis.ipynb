{
 "cells": [
  {
   "cell_type": "markdown",
   "metadata": {},
   "source": [
    "Importação das Bibliotecas Necessárias"
   ]
  },
  {
   "cell_type": "code",
   "execution_count": 7,
   "metadata": {
    "vscode": {
     "languageId": "plaintext"
    }
   },
   "outputs": [],
   "source": [
    "import os\n",
    "import pandas as pd\n",
    "import numpy as np\n",
    "from sklearn.model_selection import train_test_split\n",
    "from sklearn.linear_model import LogisticRegression\n",
    "from sklearn.metrics import accuracy_score, classification_report, confusion_matrix"
   ]
  },
  {
   "cell_type": "markdown",
   "metadata": {},
   "source": [
    "Definição do Diretório Base e Criação das Pastas"
   ]
  },
  {
   "cell_type": "code",
   "execution_count": 8,
   "metadata": {
    "scrolled": true,
    "vscode": {
     "languageId": "plaintext"
    }
   },
   "outputs": [],
   "source": [
    "# Diretório base para as camadas do ETL\n",
    "base_dir = '/home/savidotti/programmers/credit-risk-analysis/pipeline_etl/etl_camadas'\n",
    "\n",
    "# Função para criar o diretório se não existir\n",
    "def create_dir(directory):\n",
    "    if not os.path.exists(directory):\n",
    "        os.makedirs(directory)"
   ]
  },
  {
   "cell_type": "markdown",
   "metadata": {},
   "source": [
    "Camada Bronze: Carregamento dos Dados Brutos"
   ]
  },
  {
   "cell_type": "code",
   "execution_count": 9,
   "metadata": {},
   "outputs": [
    {
     "name": "stdout",
     "output_type": "stream",
     "text": [
      "Dados da Camada Bronze:\n",
      "   person_age  person_income person_home_ownership  person_emp_length  \\\n",
      "0          22          59000                  RENT              123.0   \n",
      "1          21           9600                   OWN                5.0   \n",
      "2          25           9600              MORTGAGE                1.0   \n",
      "3          23          65500                  RENT                4.0   \n",
      "4          24          54400                  RENT                8.0   \n",
      "\n",
      "  loan_intent loan_grade  loan_amnt  loan_int_rate  loan_status  \\\n",
      "0    PERSONAL          D      35000          16.02            1   \n",
      "1   EDUCATION          B       1000          11.14            0   \n",
      "2     MEDICAL          C       5500          12.87            1   \n",
      "3     MEDICAL          C      35000          15.23            1   \n",
      "4     MEDICAL          C      35000          14.27            1   \n",
      "\n",
      "   loan_percent_income cb_person_default_on_file  cb_person_cred_hist_length  \n",
      "0                 0.59                         Y                           3  \n",
      "1                 0.10                         N                           2  \n",
      "2                 0.57                         N                           3  \n",
      "3                 0.53                         N                           2  \n",
      "4                 0.55                         Y                           4  \n"
     ]
    }
   ],
   "source": [
    "# Caminho para o arquivo CSV original\n",
    "raw_data_path = '/home/savidotti/programmers/credit-risk-analysis/dataset/credit_risk_dataset.csv'\n",
    "\n",
    "# Carregando os dados brutos\n",
    "df_bronze = pd.read_csv(raw_data_path)\n",
    "\n",
    "# Visualizando as primeiras linhas do DataFrame\n",
    "print(\"Dados da Camada Bronze:\")\n",
    "print(df_bronze.head())\n",
    "\n",
    "# Criando o diretório para a camada bronze\n",
    "bronze_dir = os.path.join(base_dir, 'bronze')\n",
    "create_dir(bronze_dir)\n",
    "\n",
    "# Salvando o DataFrame da camada bronze em formato CSV\n",
    "bronze_file_path = os.path.join(bronze_dir, 'credit_risk_bronze.csv')\n",
    "df_bronze.to_csv(bronze_file_path, index=False)\n"
   ]
  },
  {
   "cell_type": "markdown",
   "metadata": {},
   "source": [
    "Camada Silver: Limpeza e Transformação Básica"
   ]
  },
  {
   "cell_type": "code",
   "execution_count": 10,
   "metadata": {
    "vscode": {
     "languageId": "plaintext"
    }
   },
   "outputs": [
    {
     "name": "stdout",
     "output_type": "stream",
     "text": [
      "\n",
      "Valores ausentes antes do tratamento:\n",
      "person_age                       0\n",
      "person_income                    0\n",
      "person_home_ownership            0\n",
      "person_emp_length              895\n",
      "loan_intent                      0\n",
      "loan_grade                       0\n",
      "loan_amnt                        0\n",
      "loan_int_rate                 3116\n",
      "loan_status                      0\n",
      "loan_percent_income              0\n",
      "cb_person_default_on_file        0\n",
      "cb_person_cred_hist_length       0\n",
      "dtype: int64\n",
      "\n",
      "Valores ausentes após o tratamento:\n",
      "person_age                       0\n",
      "person_income                    0\n",
      "person_home_ownership            0\n",
      "person_emp_length                0\n",
      "loan_intent                      0\n",
      "loan_grade                       0\n",
      "loan_amnt                        0\n",
      "loan_int_rate                 3116\n",
      "loan_status                      0\n",
      "loan_percent_income              0\n",
      "cb_person_default_on_file        0\n",
      "cb_person_cred_hist_length       0\n",
      "dtype: int64\n"
     ]
    }
   ],
   "source": [
    "# Criando uma cópia dos dados brutos\n",
    "df_silver = df_bronze.copy()\n",
    "\n",
    "# Verificando valores ausentes\n",
    "print(\"\\nValores ausentes antes do tratamento:\")\n",
    "print(df_silver.isnull().sum())\n",
    "\n",
    "# Tratamento de valores ausentes (se houver)\n",
    "if df_silver['person_emp_length'].isnull().sum() > 0:\n",
    "    df_silver['person_emp_length'].fillna(df_silver['person_emp_length'].median(), inplace=True)\n",
    "\n",
    "# Convertendo tipos de dados\n",
    "df_silver['person_age'] = df_silver['person_age'].astype(int)\n",
    "df_silver['person_income'] = df_silver['person_income'].astype(float)\n",
    "df_silver['loan_amnt'] = df_silver['loan_amnt'].astype(float)\n",
    "df_silver['loan_int_rate'] = df_silver['loan_int_rate'].astype(float)\n",
    "df_silver['loan_status'] = df_silver['loan_status'].astype(int)\n",
    "df_silver['loan_percent_income'] = df_silver['loan_percent_income'].astype(float)\n",
    "df_silver['cb_person_cred_hist_length'] = df_silver['cb_person_cred_hist_length'].astype(int)\n",
    "\n",
    "# Verificando valores ausentes após o tratamento\n",
    "print(\"\\nValores ausentes após o tratamento:\")\n",
    "print(df_silver.isnull().sum())\n",
    "\n",
    "# Criando o diretório para a camada silver\n",
    "silver_dir = os.path.join(base_dir, 'silver')\n",
    "create_dir(silver_dir)\n",
    "\n",
    "# Salvando o DataFrame da camada silver em formato Parquet\n",
    "silver_file_path = os.path.join(silver_dir, 'credit_risk_silver.parquet')\n",
    "df_silver.to_parquet(silver_file_path, index=False)\n"
   ]
  },
  {
   "cell_type": "markdown",
   "metadata": {},
   "source": [
    "Camada Gold: Enriquecimento e Preparação para ML"
   ]
  },
  {
   "cell_type": "code",
   "execution_count": 14,
   "metadata": {
    "vscode": {
     "languageId": "plaintext"
    }
   },
   "outputs": [
    {
     "ename": "NameError",
     "evalue": "name 'show' is not defined",
     "output_type": "error",
     "traceback": [
      "\u001b[0;31m---------------------------------------------------------------------------\u001b[0m",
      "\u001b[0;31mNameError\u001b[0m                                 Traceback (most recent call last)",
      "Cell \u001b[0;32mIn[14], line 51\u001b[0m\n\u001b[1;32m     48\u001b[0m gold_file_path \u001b[38;5;241m=\u001b[39m os\u001b[38;5;241m.\u001b[39mpath\u001b[38;5;241m.\u001b[39mjoin(gold_dir, \u001b[38;5;124m'\u001b[39m\u001b[38;5;124mcredit_risk_gold.parquet\u001b[39m\u001b[38;5;124m'\u001b[39m)\n\u001b[1;32m     49\u001b[0m df_gold\u001b[38;5;241m.\u001b[39mto_parquet(gold_file_path, index\u001b[38;5;241m=\u001b[39m\u001b[38;5;28;01mFalse\u001b[39;00m)\n\u001b[0;32m---> 51\u001b[0m show(df_gold)\n",
      "\u001b[0;31mNameError\u001b[0m: name 'show' is not defined"
     ]
    }
   ],
   "source": [
    "# Criando uma cópia dos dados da camada silver\n",
    "df_gold = df_silver.copy()\n",
    "\n",
    "# Engenharia de Características\n",
    "\n",
    "# Criar uma variável binária para indicar se a pessoa possui casa própria\n",
    "df_gold['is_home_owner'] = df_gold['person_home_ownership'].apply(lambda x: 1 if x in ['OWN', 'MORTGAGE'] else 0)\n",
    "\n",
    "# Tratamento de valores nulos em 'person_home_ownership' (se houver)\n",
    "if df_gold['person_home_ownership'].isnull().sum() > 0:\n",
    "    df_gold['person_home_ownership'].fillna('OTHER', inplace=True)\n",
    "\n",
    "# Codificação de variáveis categóricas\n",
    "categorical_vars = ['loan_intent', 'loan_grade', 'cb_person_default_on_file']\n",
    "\n",
    "# Usando one-hot encoding para variáveis categóricas\n",
    "df_gold = pd.get_dummies(df_gold, columns=categorical_vars, drop_first=True)\n",
    "\n",
    "# Atualizando a lista de features com as novas colunas criadas\n",
    "features = [\n",
    "    'person_age',\n",
    "    'person_income',\n",
    "    'person_emp_length',\n",
    "    'loan_amnt',\n",
    "    'loan_int_rate',\n",
    "    'loan_percent_income',\n",
    "    'cb_person_cred_hist_length',\n",
    "    'is_home_owner'\n",
    "]\n",
    "\n",
    "# Adicionando as colunas de variáveis dummies\n",
    "features += [\n",
    "    col for col in df_gold.columns \n",
    "    if col.startswith('loan_intent_') \n",
    "    or col.startswith('loan_grade_') \n",
    "    or col.startswith('cb_person_default_on_file_')\n",
    "]\n",
    "\n",
    "# Definindo as variáveis X e y\n",
    "X = df_gold[features]\n",
    "y = df_gold['loan_status']\n",
    "\n",
    "# Criando o diretório para a camada gold\n",
    "gold_dir = os.path.join(base_dir, 'gold')\n",
    "create_dir(gold_dir)\n",
    "\n",
    "# Salvando o DataFrame da camada gold em formato Parquet\n",
    "gold_file_path = os.path.join(gold_dir, 'credit_risk_gold.parquet')\n",
    "df_gold.to_parquet(gold_file_path, index=False)\n",
    "\n"
   ]
  },
  {
   "cell_type": "code",
   "execution_count": null,
   "metadata": {},
   "outputs": [],
   "source": []
  },
  {
   "cell_type": "code",
   "execution_count": 5,
   "metadata": {},
   "outputs": [
    {
     "ename": "NameError",
     "evalue": "name 'x' is not defined",
     "output_type": "error",
     "traceback": [
      "\u001b[0;31m---------------------------------------------------------------------------\u001b[0m",
      "\u001b[0;31mNameError\u001b[0m                                 Traceback (most recent call last)",
      "Cell \u001b[0;32mIn[5], line 1\u001b[0m\n\u001b[0;32m----> 1\u001b[0m x\n",
      "\u001b[0;31mNameError\u001b[0m: name 'x' is not defined"
     ]
    }
   ],
   "source": []
  },
  {
   "cell_type": "code",
   "execution_count": null,
   "metadata": {},
   "outputs": [],
   "source": [
    "person_age"
   ]
  },
  {
   "cell_type": "code",
   "execution_count": null,
   "metadata": {},
   "outputs": [],
   "source": []
  }
 ],
 "metadata": {
  "kernelspec": {
   "display_name": "Python 3 (ipykernel)",
   "language": "python",
   "name": "python3"
  },
  "language_info": {
   "codemirror_mode": {
    "name": "ipython",
    "version": 3
   },
   "file_extension": ".py",
   "mimetype": "text/x-python",
   "name": "python",
   "nbconvert_exporter": "python",
   "pygments_lexer": "ipython3",
   "version": "3.11.3"
  }
 },
 "nbformat": 4,
 "nbformat_minor": 2
}
