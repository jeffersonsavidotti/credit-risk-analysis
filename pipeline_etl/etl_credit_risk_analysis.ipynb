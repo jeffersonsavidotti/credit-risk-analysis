{
 "cells": [
  {
   "cell_type": "markdown",
   "metadata": {},
   "source": [
    "Importação das Bibliotecas Necessárias"
   ]
  },
  {
   "cell_type": "code",
   "execution_count": null,
   "metadata": {
    "vscode": {
     "languageId": "plaintext"
    }
   },
   "outputs": [],
   "source": [
    "import pandas as pd\n",
    "import numpy as np\n",
    "from sklearn.model_selection import train_test_split\n",
    "from sklearn.linear_model import LogisticRegression\n",
    "from sklearn.metrics import accuracy_score, classification_report, confusion_matrix"
   ]
  },
  {
   "cell_type": "markdown",
   "metadata": {},
   "source": [
    "Camada Bronze: Carregamento dos Dados Brutos"
   ]
  },
  {
   "cell_type": "code",
   "execution_count": null,
   "metadata": {
    "vscode": {
     "languageId": "plaintext"
    }
   },
   "outputs": [],
   "source": [
    "# Carregando os dados brutos a partir do arquivo CSV\n",
    "df_bronze = pd.read_csv('dataset/credit_risk_dataset.csv')\n",
    "\n",
    "# Visualizando as primeiras linhas do DataFrame\n",
    "print(df_bronze.head())"
   ]
  },
  {
   "cell_type": "markdown",
   "metadata": {},
   "source": [
    "Camada Silver: Limpeza e Transformação Básica"
   ]
  },
  {
   "cell_type": "code",
   "execution_count": null,
   "metadata": {
    "vscode": {
     "languageId": "plaintext"
    }
   },
   "outputs": [],
   "source": [
    "# Criando uma cópia dos dados brutos\n",
    "df_silver = df_bronze.copy()\n",
    "\n",
    "# Verificando valores ausentes\n",
    "print(df_silver.isnull().sum())\n",
    "\n",
    "# Tratamento de valores ausentes (se houver)\n",
    "# Exemplo: Preencher valores ausentes em 'person_emp_length' com a mediana\n",
    "if df_silver['person_emp_length'].isnull().sum() > 0:\n",
    "    df_silver['person_emp_length'].fillna(df_silver['person_emp_length'].median(), inplace=True)\n",
    "\n",
    "# Convertendo tipos de dados\n",
    "df_silver['person_age'] = df_silver['person_age'].astype(int)\n",
    "df_silver['person_income'] = df_silver['person_income'].astype(float)\n",
    "df_silver['loan_amnt'] = df_silver['loan_amnt'].astype(float)\n",
    "df_silver['loan_int_rate'] = df_silver['loan_int_rate'].astype(float)\n",
    "df_silver['loan_status'] = df_silver['loan_status'].astype(int)\n",
    "df_silver['loan_percent_income'] = df_silver['loan_percent_income'].astype(float)\n",
    "df_silver['cb_person_cred_hist_length'] = df_silver['cb_person_cred_hist_length'].astype(int)\n"
   ]
  },
  {
   "cell_type": "markdown",
   "metadata": {},
   "source": [
    "Camada Gold: Enriquecimento e Preparação para ML"
   ]
  },
  {
   "cell_type": "code",
   "execution_count": null,
   "metadata": {
    "vscode": {
     "languageId": "plaintext"
    }
   },
   "outputs": [],
   "source": [
    "# Criando uma cópia dos dados da camada silver\n",
    "df_gold = df_silver.copy()\n",
    "\n",
    "# Engenharia de Características\n",
    "\n",
    "# Criar uma variável binária para indicar se a pessoa possui casa própria\n",
    "df_gold['is_home_owner'] = df_gold['person_home_ownership'].apply(lambda x: 1 if x in ['OWN', 'MORTGAGE'] else 0)\n",
    "\n",
    "# Codificação de variáveis categóricas\n",
    "categorical_vars = ['loan_intent', 'loan_grade', 'cb_person_default_on_file']\n",
    "\n",
    "# Usando one-hot encoding para variáveis categóricas\n",
    "df_gold = pd.get_dummies(df_gold, columns=categorical_vars, drop_first=True)\n",
    "\n",
    "# Atualizando a lista de features com as novas colunas criadas\n",
    "features = [\n",
    "    'person_age',\n",
    "    'person_income',\n",
    "    'person_emp_length',\n",
    "    'loan_amnt',\n",
    "    'loan_int_rate',\n",
    "    'loan_percent_income',\n",
    "    'cb_person_cred_hist_length',\n",
    "    'is_home_owner'\n",
    "]\n",
    "\n",
    "# Adicionando as colunas de variáveis dummies\n",
    "features += [col for col in df_gold.columns if col.startswith('loan_intent_') or col.startswith('loan_grade_') or col.startswith('cb_person_default_on_file_')]\n",
    "\n",
    "# Definindo as variáveis X e y\n",
    "X = df_gold[features]\n",
    "y = df_gold['loan_status']\n"
   ]
  }
 ],
 "metadata": {
  "language_info": {
   "name": "python"
  }
 },
 "nbformat": 4,
 "nbformat_minor": 2
}
